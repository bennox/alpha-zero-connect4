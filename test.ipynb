{
 "cells": [
  {
   "cell_type": "code",
   "execution_count": 1,
   "metadata": {},
   "outputs": [],
   "source": [
    "import torch\n",
    "import numpy as np\n",
    "from game import Connect4\n",
    "from mcts import MCTS\n",
    "from network import ConnectNet, AlphaLoss\n",
    "from arena import Arena\n",
    "from players import random_play"
   ]
  },
  {
   "cell_type": "code",
   "execution_count": 2,
   "metadata": {},
   "outputs": [],
   "source": [
    "from self_play_learning import SelfPlay"
   ]
  },
  {
   "cell_type": "code",
   "execution_count": 3,
   "metadata": {},
   "outputs": [],
   "source": [
    "game = Connect4()"
   ]
  },
  {
   "cell_type": "code",
   "execution_count": 4,
   "metadata": {},
   "outputs": [],
   "source": [
    "net = ConnectNet()"
   ]
  },
  {
   "cell_type": "code",
   "execution_count": 5,
   "metadata": {},
   "outputs": [],
   "source": [
    "net.load_state_dict(torch.load(\"results/best_net.pth\", map_location='cpu'))"
   ]
  },
  {
   "cell_type": "code",
   "execution_count": 6,
   "metadata": {},
   "outputs": [],
   "source": [
    "args = {\"tempThreshold\":15,\n",
    "        \"num_iterations\":1000,\n",
    "        \"num_episodes\":100,\n",
    "        \"max_train_examples_history\":200000,\n",
    "        \"batch_size\":64,\n",
    "        \"n_challenges\":40,\n",
    "        \"update_threshold\":0.6,\n",
    "        \"save_path\": \"results/\",\n",
    "        \"n_sim\":25,\n",
    "        \"exploration_constant\":1.,\n",
    "        \"device\":\"gpu\",\n",
    "        \"n_epochs\":10}"
   ]
  },
  {
   "cell_type": "code",
   "execution_count": 7,
   "metadata": {},
   "outputs": [],
   "source": [
    "args = {\"tempThreshold\":15,\n",
    "        \"num_iterations\":30,\n",
    "        \"num_episodes\":100,\n",
    "        \"max_train_examples_history\":200000,\n",
    "        \"batch_size\":64,\n",
    "        \"n_challenges\":40,\n",
    "        \"update_threshold\":0.5,\n",
    "        \"save_path\": \"results/\",\n",
    "        \"n_sim\":25,\n",
    "        \"exploration_constant\":1.,\n",
    "        \"device\":\"cpu\",\n",
    "        \"n_epochs\":10,\n",
    "        }\n",
    "mcts = MCTS(game, net, args)"
   ]
  },
  {
   "cell_type": "markdown",
   "metadata": {},
   "source": [
    "### Train the NN"
   ]
  },
  {
   "cell_type": "code",
   "execution_count": 15,
   "metadata": {},
   "outputs": [],
   "source": [
    "coach = SelfPlay(game, net, args)"
   ]
  },
  {
   "cell_type": "code",
   "execution_count": 17,
   "metadata": {
    "scrolled": true
   },
   "outputs": [
    {
     "name": "stderr",
     "output_type": "stream",
     "text": [
      "\r",
      "  0%|          | 0/100 [00:00<?, ?it/s]"
     ]
    },
    {
     "name": "stdout",
     "output_type": "stream",
     "text": [
      "Iteration 1\n",
      "Getting experience...\n"
     ]
    },
    {
     "name": "stderr",
     "output_type": "stream",
     "text": [
      "100%|██████████| 100/100 [03:22<00:00,  1.92s/it]\n"
     ]
    },
    {
     "name": "stdout",
     "output_type": "stream",
     "text": [
      "Start training...\n",
      "loss epoch: 2.954900475648733\n",
      "loss epoch: 2.928229432839614\n",
      "loss epoch: 2.9226101361788235\n",
      "loss epoch: 2.903245311516982\n",
      "loss epoch: 2.867548245650071\n",
      "loss epoch: 2.851105836721567\n",
      "loss epoch: 2.8504469119585476\n",
      "loss epoch: 2.8203635124059825\n",
      "loss epoch: 2.7911734672693105\n"
     ]
    },
    {
     "name": "stderr",
     "output_type": "stream",
     "text": [
      "\r",
      "  0%|          | 0/20 [00:00<?, ?it/s]"
     ]
    },
    {
     "name": "stdout",
     "output_type": "stream",
     "text": [
      "loss epoch: 2.7688773687069235\n",
      "Start evaluation...\n"
     ]
    },
    {
     "name": "stderr",
     "output_type": "stream",
     "text": [
      "100%|██████████| 20/20 [01:08<00:00,  4.42s/it]\n",
      "  0%|          | 0/100 [00:00<?, ?it/s]"
     ]
    },
    {
     "name": "stdout",
     "output_type": "stream",
     "text": [
      "pourcentage trained wins :  0.625\n",
      "Not trained net wins 15 times, Trained net wins 25, 0 draws.\n",
      "Iteration 1 Model accepted !\n",
      "Iteration 2\n",
      "Getting experience...\n"
     ]
    },
    {
     "name": "stderr",
     "output_type": "stream",
     "text": [
      "100%|██████████| 100/100 [03:10<00:00,  2.37s/it]\n"
     ]
    },
    {
     "name": "stdout",
     "output_type": "stream",
     "text": [
      "Start training...\n",
      "loss epoch: 2.9466444604537068\n",
      "loss epoch: 2.927670955657959\n",
      "loss epoch: 2.9166011296066583\n",
      "loss epoch: 2.905687911837709\n",
      "loss epoch: 2.88998522010504\n",
      "loss epoch: 2.877292852775723\n",
      "loss epoch: 2.856009422564039\n",
      "loss epoch: 2.840552905026604\n",
      "loss epoch: 2.824534818237903\n"
     ]
    },
    {
     "name": "stderr",
     "output_type": "stream",
     "text": [
      "\r",
      "  0%|          | 0/20 [00:00<?, ?it/s]"
     ]
    },
    {
     "name": "stdout",
     "output_type": "stream",
     "text": [
      "loss epoch: 2.8089785529117957\n",
      "Start evaluation...\n"
     ]
    },
    {
     "name": "stderr",
     "output_type": "stream",
     "text": [
      "100%|██████████| 20/20 [01:08<00:00,  3.96s/it]\n",
      "  0%|          | 0/100 [00:00<?, ?it/s]"
     ]
    },
    {
     "name": "stdout",
     "output_type": "stream",
     "text": [
      "pourcentage trained wins :  0.8205128205128205\n",
      "Not trained net wins 7 times, Trained net wins 32, 1 draws.\n",
      "Iteration 2 Model accepted !\n",
      "Iteration 3\n",
      "Getting experience...\n"
     ]
    },
    {
     "name": "stderr",
     "output_type": "stream",
     "text": [
      "100%|██████████| 100/100 [03:13<00:00,  1.55s/it]\n"
     ]
    },
    {
     "name": "stdout",
     "output_type": "stream",
     "text": [
      "Start training...\n",
      "loss epoch: 2.941227684149871\n",
      "loss epoch: 2.9241390131615304\n",
      "loss epoch: 2.9145276836446814\n",
      "loss epoch: 2.9041009754747957\n",
      "loss epoch: 2.893373453939283\n",
      "loss epoch: 2.8809433756647884\n",
      "loss epoch: 2.86026588323954\n",
      "loss epoch: 2.8369644654763713\n",
      "loss epoch: 2.8240853548049927\n"
     ]
    },
    {
     "name": "stderr",
     "output_type": "stream",
     "text": [
      "\r",
      "  0%|          | 0/20 [00:00<?, ?it/s]"
     ]
    },
    {
     "name": "stdout",
     "output_type": "stream",
     "text": [
      "loss epoch: 2.7951285355799906\n",
      "Start evaluation...\n"
     ]
    },
    {
     "name": "stderr",
     "output_type": "stream",
     "text": [
      "100%|██████████| 20/20 [01:32<00:00,  4.25s/it]\n",
      "  0%|          | 0/100 [00:00<?, ?it/s]"
     ]
    },
    {
     "name": "stdout",
     "output_type": "stream",
     "text": [
      "pourcentage trained wins :  0.625\n",
      "Not trained net wins 15 times, Trained net wins 25, 0 draws.\n",
      "Iteration 3 Model accepted !\n",
      "Iteration 4\n",
      "Getting experience...\n"
     ]
    },
    {
     "name": "stderr",
     "output_type": "stream",
     "text": [
      "100%|██████████| 100/100 [03:26<00:00,  1.73s/it]\n"
     ]
    },
    {
     "name": "stdout",
     "output_type": "stream",
     "text": [
      "Start training...\n",
      "loss epoch: 2.9461243369362573\n",
      "loss epoch: 2.925812851298939\n",
      "loss epoch: 2.9121538316360627\n",
      "loss epoch: 2.9035750976716628\n",
      "loss epoch: 2.883119898613053\n",
      "loss epoch: 2.853848006990221\n",
      "loss epoch: 2.831944039373687\n",
      "loss epoch: 2.8101544645097523\n",
      "loss epoch: 2.787392255031701\n"
     ]
    },
    {
     "name": "stderr",
     "output_type": "stream",
     "text": [
      "\r",
      "  0%|          | 0/20 [00:00<?, ?it/s]"
     ]
    },
    {
     "name": "stdout",
     "output_type": "stream",
     "text": [
      "loss epoch: 2.76307558531713\n",
      "Start evaluation...\n"
     ]
    },
    {
     "name": "stderr",
     "output_type": "stream",
     "text": [
      "100%|██████████| 20/20 [01:25<00:00,  3.76s/it]\n",
      "  0%|          | 0/100 [00:00<?, ?it/s]"
     ]
    },
    {
     "name": "stdout",
     "output_type": "stream",
     "text": [
      "pourcentage trained wins :  0.325\n",
      "Not trained net wins 27 times, Trained net wins 13, 0 draws.\n",
      "Iteration 5\n",
      "Getting experience...\n"
     ]
    },
    {
     "name": "stderr",
     "output_type": "stream",
     "text": [
      "100%|██████████| 100/100 [03:43<00:00,  2.19s/it]\n"
     ]
    },
    {
     "name": "stdout",
     "output_type": "stream",
     "text": [
      "Start training...\n",
      "loss epoch: 2.7712451312690973\n",
      "loss epoch: 2.728034995496273\n",
      "loss epoch: 2.693248590454459\n",
      "loss epoch: 2.664394773542881\n",
      "loss epoch: 2.632628398016095\n",
      "loss epoch: 2.6044042967259884\n",
      "loss epoch: 2.5697369119152427\n",
      "loss epoch: 2.5383538212627172\n",
      "loss epoch: 2.4933758340775967\n"
     ]
    },
    {
     "name": "stderr",
     "output_type": "stream",
     "text": [
      "\r",
      "  0%|          | 0/20 [00:00<?, ?it/s]"
     ]
    },
    {
     "name": "stdout",
     "output_type": "stream",
     "text": [
      "loss epoch: 2.4295956352725625\n",
      "Start evaluation...\n"
     ]
    },
    {
     "name": "stderr",
     "output_type": "stream",
     "text": [
      "100%|██████████| 20/20 [01:55<00:00,  5.70s/it]\n",
      "  0%|          | 0/100 [00:00<?, ?it/s]"
     ]
    },
    {
     "name": "stdout",
     "output_type": "stream",
     "text": [
      "pourcentage trained wins :  0.925\n",
      "Not trained net wins 3 times, Trained net wins 37, 0 draws.\n",
      "Iteration 5 Model accepted !\n",
      "Iteration 6\n",
      "Getting experience...\n"
     ]
    },
    {
     "name": "stderr",
     "output_type": "stream",
     "text": [
      "100%|██████████| 100/100 [04:02<00:00,  2.18s/it]\n"
     ]
    },
    {
     "name": "stdout",
     "output_type": "stream",
     "text": [
      "Start training...\n",
      "loss epoch: 2.7546833320787756\n",
      "loss epoch: 2.7037478465183526\n",
      "loss epoch: 2.6703460748028602\n",
      "loss epoch: 2.6396306958168174\n",
      "loss epoch: 2.6122186502833276\n",
      "loss epoch: 2.58116307987529\n",
      "loss epoch: 2.555027437817519\n",
      "loss epoch: 2.52210118968016\n",
      "loss epoch: 2.4746198608617114\n"
     ]
    },
    {
     "name": "stderr",
     "output_type": "stream",
     "text": [
      "\r",
      "  0%|          | 0/20 [00:00<?, ?it/s]"
     ]
    },
    {
     "name": "stdout",
     "output_type": "stream",
     "text": [
      "loss epoch: 2.4264046553593532\n",
      "Start evaluation...\n"
     ]
    },
    {
     "name": "stderr",
     "output_type": "stream",
     "text": [
      "100%|██████████| 20/20 [01:59<00:00,  6.68s/it]\n",
      "  0%|          | 0/100 [00:00<?, ?it/s]"
     ]
    },
    {
     "name": "stdout",
     "output_type": "stream",
     "text": [
      "pourcentage trained wins :  0.7\n",
      "Not trained net wins 12 times, Trained net wins 28, 0 draws.\n",
      "Iteration 6 Model accepted !\n",
      "Iteration 7\n",
      "Getting experience...\n"
     ]
    },
    {
     "name": "stderr",
     "output_type": "stream",
     "text": [
      "100%|██████████| 100/100 [04:04<00:00,  2.85s/it]\n"
     ]
    },
    {
     "name": "stdout",
     "output_type": "stream",
     "text": [
      "Start training...\n",
      "loss epoch: 2.733458610291177\n",
      "loss epoch: 2.6792877354520432\n",
      "loss epoch: 2.6441234971614596\n",
      "loss epoch: 2.609053112090902\n",
      "loss epoch: 2.566971291886999\n",
      "loss epoch: 2.5216409640109285\n",
      "loss epoch: 2.4812641093071472\n",
      "loss epoch: 2.4416108816228013\n",
      "loss epoch: 2.391863108949458\n"
     ]
    },
    {
     "name": "stderr",
     "output_type": "stream",
     "text": [
      "\r",
      "  0%|          | 0/20 [00:00<?, ?it/s]"
     ]
    },
    {
     "name": "stdout",
     "output_type": "stream",
     "text": [
      "loss epoch: 2.342838627226809\n",
      "Start evaluation...\n"
     ]
    },
    {
     "name": "stderr",
     "output_type": "stream",
     "text": [
      "100%|██████████| 20/20 [01:36<00:00,  5.10s/it]\n",
      "  0%|          | 0/100 [00:00<?, ?it/s]"
     ]
    },
    {
     "name": "stdout",
     "output_type": "stream",
     "text": [
      "pourcentage trained wins :  0.725\n",
      "Not trained net wins 11 times, Trained net wins 29, 0 draws.\n",
      "Iteration 7 Model accepted !\n",
      "Iteration 8\n",
      "Getting experience...\n"
     ]
    },
    {
     "name": "stderr",
     "output_type": "stream",
     "text": [
      "100%|██████████| 100/100 [04:10<00:00,  2.20s/it]\n"
     ]
    },
    {
     "name": "stdout",
     "output_type": "stream",
     "text": [
      "Start training...\n",
      "loss epoch: 2.7128786357966335\n",
      "loss epoch: 2.656007624756206\n",
      "loss epoch: 2.6179409016262403\n",
      "loss epoch: 2.5790823882276364\n",
      "loss epoch: 2.5347794819961895\n",
      "loss epoch: 2.4874288401820444\n",
      "loss epoch: 2.4452697547999294\n",
      "loss epoch: 2.3896096641367133\n",
      "loss epoch: 2.3314344666220923\n"
     ]
    },
    {
     "name": "stderr",
     "output_type": "stream",
     "text": [
      "\r",
      "  0%|          | 0/20 [00:00<?, ?it/s]"
     ]
    },
    {
     "name": "stdout",
     "output_type": "stream",
     "text": [
      "loss epoch: 2.251869476925243\n",
      "Start evaluation...\n"
     ]
    },
    {
     "name": "stderr",
     "output_type": "stream",
     "text": [
      "100%|██████████| 20/20 [02:03<00:00,  6.87s/it]\n",
      "  0%|          | 0/100 [00:00<?, ?it/s]"
     ]
    },
    {
     "name": "stdout",
     "output_type": "stream",
     "text": [
      "pourcentage trained wins :  0.6410256410256411\n",
      "Not trained net wins 14 times, Trained net wins 25, 1 draws.\n",
      "Iteration 8 Model accepted !\n",
      "Iteration 9\n",
      "Getting experience...\n"
     ]
    },
    {
     "name": "stderr",
     "output_type": "stream",
     "text": [
      "100%|██████████| 100/100 [04:01<00:00,  2.30s/it]\n"
     ]
    },
    {
     "name": "stdout",
     "output_type": "stream",
     "text": [
      "Start training...\n",
      "loss epoch: 2.6999105558395384\n",
      "loss epoch: 2.643800352096558\n",
      "loss epoch: 2.6109369440078734\n",
      "loss epoch: 2.5822666015625\n",
      "loss epoch: 2.5524897012710572\n",
      "loss epoch: 2.518666976928711\n",
      "loss epoch: 2.4807405395507813\n",
      "loss epoch: 2.427267000198364\n",
      "loss epoch: 2.376162929058075\n"
     ]
    },
    {
     "name": "stderr",
     "output_type": "stream",
     "text": [
      "\r",
      "  0%|          | 0/20 [00:00<?, ?it/s]"
     ]
    },
    {
     "name": "stdout",
     "output_type": "stream",
     "text": [
      "loss epoch: 2.3231102542877196\n",
      "Start evaluation...\n"
     ]
    },
    {
     "name": "stderr",
     "output_type": "stream",
     "text": [
      "100%|██████████| 20/20 [02:27<00:00,  6.84s/it]\n",
      "  0%|          | 0/100 [00:00<?, ?it/s]"
     ]
    },
    {
     "name": "stdout",
     "output_type": "stream",
     "text": [
      "pourcentage trained wins :  0.5897435897435898\n",
      "Not trained net wins 16 times, Trained net wins 23, 1 draws.\n",
      "Iteration 9 Model accepted !\n",
      "Iteration 10\n",
      "Getting experience...\n"
     ]
    },
    {
     "name": "stderr",
     "output_type": "stream",
     "text": [
      "100%|██████████| 100/100 [04:04<00:00,  2.36s/it]\n"
     ]
    },
    {
     "name": "stdout",
     "output_type": "stream",
     "text": [
      "Start training...\n",
      "loss epoch: 2.6890135651381413\n",
      "loss epoch: 2.633735413653146\n",
      "loss epoch: 2.5904122718288383\n",
      "loss epoch: 2.5517391810637777\n",
      "loss epoch: 2.5057900794036025\n",
      "loss epoch: 2.4534408422551546\n",
      "loss epoch: 2.3912532632885455\n",
      "loss epoch: 2.3314651569013494\n",
      "loss epoch: 2.2647158864129904\n"
     ]
    },
    {
     "name": "stderr",
     "output_type": "stream",
     "text": [
      "\r",
      "  0%|          | 0/20 [00:00<?, ?it/s]"
     ]
    },
    {
     "name": "stdout",
     "output_type": "stream",
     "text": [
      "loss epoch: 2.1709193017373516\n",
      "Start evaluation...\n"
     ]
    },
    {
     "name": "stderr",
     "output_type": "stream",
     "text": [
      "100%|██████████| 20/20 [02:37<00:00,  6.79s/it]\n",
      "  0%|          | 0/100 [00:00<?, ?it/s]"
     ]
    },
    {
     "name": "stdout",
     "output_type": "stream",
     "text": [
      "pourcentage trained wins :  0.5945945945945946\n",
      "Not trained net wins 15 times, Trained net wins 22, 3 draws.\n",
      "Iteration 10 Model accepted !\n",
      "Iteration 11\n",
      "Getting experience...\n"
     ]
    },
    {
     "name": "stderr",
     "output_type": "stream",
     "text": [
      "100%|██████████| 100/100 [04:10<00:00,  2.87s/it]\n"
     ]
    },
    {
     "name": "stdout",
     "output_type": "stream",
     "text": [
      "Start training...\n",
      "loss epoch: 2.6766018821642947\n",
      "loss epoch: 2.6154771600014124\n",
      "loss epoch: 2.5766614247591066\n",
      "loss epoch: 2.5346047442692976\n",
      "loss epoch: 2.4912647207578025\n",
      "loss epoch: 2.4365068398989163\n",
      "loss epoch: 2.3746799513315544\n",
      "loss epoch: 2.2985028204245443\n",
      "loss epoch: 2.211607495561624\n"
     ]
    },
    {
     "name": "stderr",
     "output_type": "stream",
     "text": [
      "\r",
      "  0%|          | 0/20 [00:00<?, ?it/s]"
     ]
    },
    {
     "name": "stdout",
     "output_type": "stream",
     "text": [
      "loss epoch: 2.1034627797511907\n",
      "Start evaluation...\n"
     ]
    },
    {
     "name": "stderr",
     "output_type": "stream",
     "text": [
      "100%|██████████| 20/20 [02:09<00:00,  5.22s/it]\n",
      "  0%|          | 0/100 [00:00<?, ?it/s]"
     ]
    },
    {
     "name": "stdout",
     "output_type": "stream",
     "text": [
      "pourcentage trained wins :  0.631578947368421\n",
      "Not trained net wins 14 times, Trained net wins 24, 2 draws.\n",
      "Iteration 11 Model accepted !\n",
      "Iteration 12\n",
      "Getting experience...\n"
     ]
    },
    {
     "name": "stderr",
     "output_type": "stream",
     "text": [
      "100%|██████████| 100/100 [04:35<00:00,  1.89s/it]\n"
     ]
    },
    {
     "name": "stdout",
     "output_type": "stream",
     "text": [
      "Start training...\n",
      "loss epoch: 2.667742492142603\n",
      "loss epoch: 2.6098128498802953\n",
      "loss epoch: 2.578869674666127\n",
      "loss epoch: 2.5489673882465196\n",
      "loss epoch: 2.516338512602045\n",
      "loss epoch: 2.473935829802961\n",
      "loss epoch: 2.4254153839792916\n",
      "loss epoch: 2.369335637999543\n",
      "loss epoch: 2.303931425559074\n"
     ]
    },
    {
     "name": "stderr",
     "output_type": "stream",
     "text": [
      "\r",
      "  0%|          | 0/20 [00:00<?, ?it/s]"
     ]
    },
    {
     "name": "stdout",
     "output_type": "stream",
     "text": [
      "loss epoch: 2.2268241798499817\n",
      "Start evaluation...\n"
     ]
    },
    {
     "name": "stderr",
     "output_type": "stream",
     "text": [
      "100%|██████████| 20/20 [02:17<00:00,  4.98s/it]\n",
      "  0%|          | 0/100 [00:00<?, ?it/s]"
     ]
    },
    {
     "name": "stdout",
     "output_type": "stream",
     "text": [
      "pourcentage trained wins :  0.6578947368421053\n",
      "Not trained net wins 13 times, Trained net wins 25, 2 draws.\n",
      "Iteration 12 Model accepted !\n",
      "Iteration 13\n",
      "Getting experience...\n"
     ]
    },
    {
     "name": "stderr",
     "output_type": "stream",
     "text": [
      "100%|██████████| 100/100 [04:22<00:00,  1.46s/it]\n"
     ]
    },
    {
     "name": "stdout",
     "output_type": "stream",
     "text": [
      "Start training...\n",
      "loss epoch: 2.6605513580241746\n",
      "loss epoch: 2.5978020495663845\n",
      "loss epoch: 2.555424915454633\n",
      "loss epoch: 2.5034925270835453\n",
      "loss epoch: 2.434976439991853\n",
      "loss epoch: 2.3343595760164284\n",
      "loss epoch: 2.2015003667343263\n",
      "loss epoch: 2.084058774178135\n",
      "loss epoch: 1.9885851289477385\n"
     ]
    },
    {
     "name": "stderr",
     "output_type": "stream",
     "text": [
      "\r",
      "  0%|          | 0/20 [00:00<?, ?it/s]"
     ]
    },
    {
     "name": "stdout",
     "output_type": "stream",
     "text": [
      "loss epoch: 1.916006896615343\n",
      "Start evaluation...\n"
     ]
    },
    {
     "name": "stderr",
     "output_type": "stream",
     "text": [
      "100%|██████████| 20/20 [01:55<00:00,  5.16s/it]\n",
      "  0%|          | 0/100 [00:00<?, ?it/s]"
     ]
    },
    {
     "name": "stdout",
     "output_type": "stream",
     "text": [
      "pourcentage trained wins :  0.625\n",
      "Not trained net wins 15 times, Trained net wins 25, 0 draws.\n",
      "Iteration 13 Model accepted !\n",
      "Iteration 14\n",
      "Getting experience...\n"
     ]
    },
    {
     "name": "stderr",
     "output_type": "stream",
     "text": [
      "100%|██████████| 100/100 [04:10<00:00,  3.06s/it]\n"
     ]
    },
    {
     "name": "stdout",
     "output_type": "stream",
     "text": [
      "Start training...\n",
      "loss epoch: 2.6540818156265633\n",
      "loss epoch: 2.5966863986922473\n",
      "loss epoch: 2.5597909026029635\n",
      "loss epoch: 2.5198073800017196\n",
      "loss epoch: 2.4707888074037507\n",
      "loss epoch: 2.4147460489738277\n",
      "loss epoch: 2.3427195758354373\n",
      "loss epoch: 2.25109349285684\n",
      "loss epoch: 2.1298016155638346\n"
     ]
    },
    {
     "name": "stderr",
     "output_type": "stream",
     "text": [
      "\r",
      "  0%|          | 0/20 [00:00<?, ?it/s]"
     ]
    },
    {
     "name": "stdout",
     "output_type": "stream",
     "text": [
      "loss epoch: 2.023112748018125\n",
      "Start evaluation...\n"
     ]
    },
    {
     "name": "stderr",
     "output_type": "stream",
     "text": [
      "100%|██████████| 20/20 [02:20<00:00,  6.33s/it]\n",
      "  0%|          | 0/100 [00:00<?, ?it/s]"
     ]
    },
    {
     "name": "stdout",
     "output_type": "stream",
     "text": [
      "pourcentage trained wins :  0.6923076923076923\n",
      "Not trained net wins 12 times, Trained net wins 27, 1 draws.\n",
      "Iteration 14 Model accepted !\n",
      "Iteration 15\n",
      "Getting experience...\n"
     ]
    },
    {
     "name": "stderr",
     "output_type": "stream",
     "text": [
      "100%|██████████| 100/100 [04:22<00:00,  2.62s/it]\n"
     ]
    },
    {
     "name": "stdout",
     "output_type": "stream",
     "text": [
      "Start training...\n",
      "loss epoch: 2.6462150369834037\n",
      "loss epoch: 2.5889469757338994\n",
      "loss epoch: 2.553994999212377\n",
      "loss epoch: 2.5103755973582893\n",
      "loss epoch: 2.4569900909700007\n",
      "loss epoch: 2.392324134774877\n",
      "loss epoch: 2.3154199374207542\n",
      "loss epoch: 2.2146714095076825\n",
      "loss epoch: 2.0820526825896217\n"
     ]
    },
    {
     "name": "stderr",
     "output_type": "stream",
     "text": [
      "\r",
      "  0%|          | 0/20 [00:00<?, ?it/s]"
     ]
    },
    {
     "name": "stdout",
     "output_type": "stream",
     "text": [
      "loss epoch: 1.9676600149853736\n",
      "Start evaluation...\n"
     ]
    },
    {
     "name": "stderr",
     "output_type": "stream",
     "text": [
      "100%|██████████| 20/20 [02:51<00:00,  8.32s/it]\n",
      "  0%|          | 0/100 [00:00<?, ?it/s]"
     ]
    },
    {
     "name": "stdout",
     "output_type": "stream",
     "text": [
      "pourcentage trained wins :  0.4444444444444444\n",
      "Not trained net wins 20 times, Trained net wins 16, 4 draws.\n",
      "Iteration 16\n",
      "Getting experience...\n"
     ]
    },
    {
     "name": "stderr",
     "output_type": "stream",
     "text": [
      "100%|██████████| 100/100 [05:09<00:00,  2.76s/it]\n"
     ]
    },
    {
     "name": "stdout",
     "output_type": "stream",
     "text": [
      "Start training...\n",
      "loss epoch: 2.052982091406981\n",
      "loss epoch: 1.9045361494024595\n",
      "loss epoch: 1.814824675520261\n",
      "loss epoch: 1.739939591040214\n",
      "loss epoch: 1.6887581591804823\n",
      "loss epoch: 1.6360768248637518\n",
      "loss epoch: 1.5964320768912634\n",
      "loss epoch: 1.5687752867738405\n",
      "loss epoch: 1.5489522352814675\n"
     ]
    },
    {
     "name": "stderr",
     "output_type": "stream",
     "text": [
      "\r",
      "  0%|          | 0/20 [00:00<?, ?it/s]"
     ]
    },
    {
     "name": "stdout",
     "output_type": "stream",
     "text": [
      "loss epoch: 1.5066710477073988\n",
      "Start evaluation...\n"
     ]
    },
    {
     "name": "stderr",
     "output_type": "stream",
     "text": [
      "100%|██████████| 20/20 [01:52<00:00,  5.71s/it]\n",
      "  0%|          | 0/100 [00:00<?, ?it/s]"
     ]
    },
    {
     "name": "stdout",
     "output_type": "stream",
     "text": [
      "pourcentage trained wins :  0.65\n",
      "Not trained net wins 14 times, Trained net wins 26, 0 draws.\n",
      "Iteration 16 Model accepted !\n",
      "Iteration 17\n",
      "Getting experience...\n"
     ]
    },
    {
     "name": "stderr",
     "output_type": "stream",
     "text": [
      "100%|██████████| 100/100 [04:52<00:00,  2.58s/it]\n"
     ]
    },
    {
     "name": "stdout",
     "output_type": "stream",
     "text": [
      "Start training...\n",
      "loss epoch: 2.0581543820575603\n",
      "loss epoch: 1.9115698772726708\n",
      "loss epoch: 1.821354107254917\n",
      "loss epoch: 1.7508733902162719\n",
      "loss epoch: 1.6878490598456373\n",
      "loss epoch: 1.6397873903941182\n",
      "loss epoch: 1.5954740040510604\n",
      "loss epoch: 1.558151207618343\n",
      "loss epoch: 1.5351747468837256\n"
     ]
    },
    {
     "name": "stderr",
     "output_type": "stream",
     "text": [
      "\r",
      "  0%|          | 0/20 [00:00<?, ?it/s]"
     ]
    },
    {
     "name": "stdout",
     "output_type": "stream",
     "text": [
      "loss epoch: 1.523135580136938\n",
      "Start evaluation...\n"
     ]
    },
    {
     "name": "stderr",
     "output_type": "stream",
     "text": [
      "100%|██████████| 20/20 [01:52<00:00,  6.97s/it]\n",
      "  0%|          | 0/100 [00:00<?, ?it/s]"
     ]
    },
    {
     "name": "stdout",
     "output_type": "stream",
     "text": [
      "pourcentage trained wins :  0.4358974358974359\n",
      "Not trained net wins 22 times, Trained net wins 17, 1 draws.\n",
      "Iteration 18\n",
      "Getting experience...\n"
     ]
    },
    {
     "name": "stderr",
     "output_type": "stream",
     "text": [
      "100%|██████████| 100/100 [04:39<00:00,  3.97s/it]\n"
     ]
    },
    {
     "name": "stdout",
     "output_type": "stream",
     "text": [
      "Start training...\n",
      "loss epoch: 1.7420013425566934\n",
      "loss epoch: 1.5969576967846264\n",
      "loss epoch: 1.5384274877201427\n",
      "loss epoch: 1.5016876409270548\n",
      "loss epoch: 1.4762462186813354\n",
      "loss epoch: 1.4593242128328843\n",
      "loss epoch: 1.4423267091404308\n",
      "loss epoch: 1.4256258875673467\n",
      "loss epoch: 1.4272861261801286\n"
     ]
    },
    {
     "name": "stderr",
     "output_type": "stream",
     "text": [
      "\r",
      "  0%|          | 0/20 [00:00<?, ?it/s]"
     ]
    },
    {
     "name": "stdout",
     "output_type": "stream",
     "text": [
      "loss epoch: 1.4118849809603258\n",
      "Start evaluation...\n"
     ]
    },
    {
     "name": "stderr",
     "output_type": "stream",
     "text": [
      "100%|██████████| 20/20 [01:27<00:00,  4.04s/it]\n",
      "  0%|          | 0/100 [00:00<?, ?it/s]"
     ]
    },
    {
     "name": "stdout",
     "output_type": "stream",
     "text": [
      "pourcentage trained wins :  0.575\n",
      "Not trained net wins 17 times, Trained net wins 23, 0 draws.\n",
      "Iteration 18 Model accepted !\n",
      "Iteration 19\n",
      "Getting experience...\n"
     ]
    },
    {
     "name": "stderr",
     "output_type": "stream",
     "text": [
      "100%|██████████| 100/100 [04:25<00:00,  2.74s/it]\n"
     ]
    },
    {
     "name": "stdout",
     "output_type": "stream",
     "text": [
      "Start training...\n",
      "loss epoch: 1.8195184802518292\n",
      "loss epoch: 1.637351853156376\n",
      "loss epoch: 1.5503202629743678\n",
      "loss epoch: 1.5105675352580756\n",
      "loss epoch: 1.4724419321449502\n",
      "loss epoch: 1.4674256418417904\n",
      "loss epoch: 1.4385786410261387\n",
      "loss epoch: 1.4319007995811581\n",
      "loss epoch: 1.4061619658821851\n"
     ]
    },
    {
     "name": "stderr",
     "output_type": "stream",
     "text": [
      "\r",
      "  0%|          | 0/20 [00:00<?, ?it/s]"
     ]
    },
    {
     "name": "stdout",
     "output_type": "stream",
     "text": [
      "loss epoch: 1.4093460619551854\n",
      "Start evaluation...\n"
     ]
    },
    {
     "name": "stderr",
     "output_type": "stream",
     "text": [
      "100%|██████████| 20/20 [01:43<00:00,  5.94s/it]\n",
      "  0%|          | 0/100 [00:00<?, ?it/s]"
     ]
    },
    {
     "name": "stdout",
     "output_type": "stream",
     "text": [
      "pourcentage trained wins :  0.23076923076923078\n",
      "Not trained net wins 30 times, Trained net wins 9, 1 draws.\n",
      "Iteration 20\n",
      "Getting experience...\n"
     ]
    },
    {
     "name": "stderr",
     "output_type": "stream",
     "text": [
      "100%|██████████| 100/100 [04:43<00:00,  2.27s/it]\n"
     ]
    },
    {
     "name": "stdout",
     "output_type": "stream",
     "text": [
      "Start training...\n",
      "loss epoch: 1.5876409916669083\n",
      "loss epoch: 1.459891361490834\n",
      "loss epoch: 1.4180233801203377\n",
      "loss epoch: 1.392215204393458\n",
      "loss epoch: 1.3830532818984367\n",
      "loss epoch: 1.3783374144733436\n",
      "loss epoch: 1.3677404833960571\n",
      "loss epoch: 1.3725036587475572\n",
      "loss epoch: 1.35552606909163\n"
     ]
    },
    {
     "name": "stderr",
     "output_type": "stream",
     "text": [
      "\r",
      "  0%|          | 0/20 [00:00<?, ?it/s]"
     ]
    },
    {
     "name": "stdout",
     "output_type": "stream",
     "text": [
      "loss epoch: 1.3413666329275653\n",
      "Start evaluation...\n"
     ]
    },
    {
     "name": "stderr",
     "output_type": "stream",
     "text": [
      "100%|██████████| 20/20 [02:15<00:00,  7.32s/it]\n",
      "  0%|          | 0/100 [00:00<?, ?it/s]"
     ]
    },
    {
     "name": "stdout",
     "output_type": "stream",
     "text": [
      "pourcentage trained wins :  0.6923076923076923\n",
      "Not trained net wins 12 times, Trained net wins 27, 1 draws.\n",
      "Iteration 20 Model accepted !\n",
      "Iteration 21\n",
      "Getting experience...\n"
     ]
    },
    {
     "name": "stderr",
     "output_type": "stream",
     "text": [
      "100%|██████████| 100/100 [04:59<00:00,  2.65s/it]\n"
     ]
    },
    {
     "name": "stdout",
     "output_type": "stream",
     "text": [
      "Start training...\n",
      "loss epoch: 1.6809866681740553\n",
      "loss epoch: 1.4997040171871128\n",
      "loss epoch: 1.441473768027186\n",
      "loss epoch: 1.4035485693074148\n",
      "loss epoch: 1.395757952961353\n",
      "loss epoch: 1.37559063345285\n",
      "loss epoch: 1.3689228476734336\n",
      "loss epoch: 1.3543777540553965\n",
      "loss epoch: 1.3658190331327806\n"
     ]
    },
    {
     "name": "stderr",
     "output_type": "stream",
     "text": [
      "\r",
      "  0%|          | 0/20 [00:00<?, ?it/s]"
     ]
    },
    {
     "name": "stdout",
     "output_type": "stream",
     "text": [
      "loss epoch: 1.3365773000848402\n",
      "Start evaluation...\n"
     ]
    },
    {
     "name": "stderr",
     "output_type": "stream",
     "text": [
      "100%|██████████| 20/20 [02:31<00:00,  7.18s/it]\n",
      "  0%|          | 0/100 [00:00<?, ?it/s]"
     ]
    },
    {
     "name": "stdout",
     "output_type": "stream",
     "text": [
      "pourcentage trained wins :  0.6923076923076923\n",
      "Not trained net wins 12 times, Trained net wins 27, 1 draws.\n",
      "Iteration 21 Model accepted !\n",
      "Iteration 22\n",
      "Getting experience...\n"
     ]
    },
    {
     "name": "stderr",
     "output_type": "stream",
     "text": [
      "100%|██████████| 100/100 [05:10<00:00,  2.33s/it]\n"
     ]
    },
    {
     "name": "stdout",
     "output_type": "stream",
     "text": [
      "Start training...\n",
      "loss epoch: 1.7165659145812768\n",
      "loss epoch: 1.5105949929683884\n",
      "loss epoch: 1.4401617681532237\n",
      "loss epoch: 1.4178552199478094\n",
      "loss epoch: 1.3822831485657334\n",
      "loss epoch: 1.3709818584726037\n",
      "loss epoch: 1.3569084563524048\n",
      "loss epoch: 1.3536218418551318\n",
      "loss epoch: 1.3260510509586059\n"
     ]
    },
    {
     "name": "stderr",
     "output_type": "stream",
     "text": [
      "\r",
      "  0%|          | 0/20 [00:00<?, ?it/s]"
     ]
    },
    {
     "name": "stdout",
     "output_type": "stream",
     "text": [
      "loss epoch: 1.3344723576238389\n",
      "Start evaluation...\n"
     ]
    },
    {
     "name": "stderr",
     "output_type": "stream",
     "text": [
      "100%|██████████| 20/20 [01:31<00:00,  4.80s/it]\n",
      "  0%|          | 0/100 [00:00<?, ?it/s]"
     ]
    },
    {
     "name": "stdout",
     "output_type": "stream",
     "text": [
      "pourcentage trained wins :  0.775\n",
      "Not trained net wins 9 times, Trained net wins 31, 0 draws.\n",
      "Iteration 22 Model accepted !\n",
      "Iteration 23\n",
      "Getting experience...\n"
     ]
    },
    {
     "name": "stderr",
     "output_type": "stream",
     "text": [
      "100%|██████████| 100/100 [05:04<00:00,  3.04s/it]\n"
     ]
    },
    {
     "name": "stdout",
     "output_type": "stream",
     "text": [
      "Start training...\n",
      "loss epoch: 1.73064217708268\n",
      "loss epoch: 1.5215301834619963\n",
      "loss epoch: 1.4398527620257913\n",
      "loss epoch: 1.407385520882659\n",
      "loss epoch: 1.3932869253414017\n",
      "loss epoch: 1.3564834656132447\n",
      "loss epoch: 1.352582033928279\n",
      "loss epoch: 1.3356794279355269\n",
      "loss epoch: 1.3341234933871489\n"
     ]
    },
    {
     "name": "stderr",
     "output_type": "stream",
     "text": [
      "\r",
      "  0%|          | 0/20 [00:00<?, ?it/s]"
     ]
    },
    {
     "name": "stdout",
     "output_type": "stream",
     "text": [
      "loss epoch: 1.3250863426825503\n",
      "Start evaluation...\n"
     ]
    },
    {
     "name": "stderr",
     "output_type": "stream",
     "text": [
      "100%|██████████| 20/20 [01:49<00:00,  5.27s/it]\n",
      "  0%|          | 0/100 [00:00<?, ?it/s]"
     ]
    },
    {
     "name": "stdout",
     "output_type": "stream",
     "text": [
      "pourcentage trained wins :  0.75\n",
      "Not trained net wins 10 times, Trained net wins 30, 0 draws.\n",
      "Iteration 23 Model accepted !\n",
      "Iteration 24\n",
      "Getting experience...\n"
     ]
    },
    {
     "name": "stderr",
     "output_type": "stream",
     "text": [
      "100%|██████████| 100/100 [04:26<00:00,  2.75s/it]\n"
     ]
    },
    {
     "name": "stdout",
     "output_type": "stream",
     "text": [
      "Start training...\n",
      "loss epoch: 1.7574079671137905\n",
      "loss epoch: 1.5397260627671392\n",
      "loss epoch: 1.457823844369545\n",
      "loss epoch: 1.4089164408058437\n",
      "loss epoch: 1.3939418656440665\n",
      "loss epoch: 1.3577483765555745\n",
      "loss epoch: 1.3430939394290438\n",
      "loss epoch: 1.331176680349959\n",
      "loss epoch: 1.3371849508072482\n"
     ]
    },
    {
     "name": "stderr",
     "output_type": "stream",
     "text": [
      "\r",
      "  0%|          | 0/20 [00:00<?, ?it/s]"
     ]
    },
    {
     "name": "stdout",
     "output_type": "stream",
     "text": [
      "loss epoch: 1.3287269818485175\n",
      "Start evaluation...\n"
     ]
    },
    {
     "name": "stderr",
     "output_type": "stream",
     "text": [
      "100%|██████████| 20/20 [01:45<00:00,  6.08s/it]\n",
      "  0%|          | 0/100 [00:00<?, ?it/s]"
     ]
    },
    {
     "name": "stdout",
     "output_type": "stream",
     "text": [
      "pourcentage trained wins :  0.525\n",
      "Not trained net wins 19 times, Trained net wins 21, 0 draws.\n",
      "Iteration 24 Model accepted !\n",
      "Iteration 25\n",
      "Getting experience...\n"
     ]
    },
    {
     "name": "stderr",
     "output_type": "stream",
     "text": [
      "100%|██████████| 100/100 [04:19<00:00,  2.57s/it]\n"
     ]
    },
    {
     "name": "stdout",
     "output_type": "stream",
     "text": [
      "Start training...\n",
      "loss epoch: 1.7777425444592143\n",
      "loss epoch: 1.54623079089469\n",
      "loss epoch: 1.459470071678354\n",
      "loss epoch: 1.4093802614139879\n",
      "loss epoch: 1.3791839684844769\n",
      "loss epoch: 1.3679614527829809\n",
      "loss epoch: 1.351942010665451\n",
      "loss epoch: 1.3408313903201272\n",
      "loss epoch: 1.3228276093850972\n"
     ]
    },
    {
     "name": "stderr",
     "output_type": "stream",
     "text": [
      "\r",
      "  0%|          | 0/20 [00:00<?, ?it/s]"
     ]
    },
    {
     "name": "stdout",
     "output_type": "stream",
     "text": [
      "loss epoch: 1.3127596860124364\n",
      "Start evaluation...\n"
     ]
    },
    {
     "name": "stderr",
     "output_type": "stream",
     "text": [
      "100%|██████████| 20/20 [02:34<00:00,  8.64s/it]\n",
      "  0%|          | 0/100 [00:00<?, ?it/s]"
     ]
    },
    {
     "name": "stdout",
     "output_type": "stream",
     "text": [
      "pourcentage trained wins :  0.5789473684210527\n",
      "Not trained net wins 16 times, Trained net wins 22, 2 draws.\n",
      "Iteration 25 Model accepted !\n",
      "Iteration 26\n",
      "Getting experience...\n"
     ]
    },
    {
     "name": "stderr",
     "output_type": "stream",
     "text": [
      "100%|██████████| 100/100 [04:38<00:00,  2.26s/it]\n"
     ]
    },
    {
     "name": "stdout",
     "output_type": "stream",
     "text": [
      "Start training...\n",
      "loss epoch: 1.79881436288573\n",
      "loss epoch: 1.5545242448239402\n",
      "loss epoch: 1.4605915230736046\n",
      "loss epoch: 1.4230789645263044\n",
      "loss epoch: 1.3916438134722726\n",
      "loss epoch: 1.3561458139350366\n",
      "loss epoch: 1.3440076977627164\n",
      "loss epoch: 1.3276148810352062\n",
      "loss epoch: 1.3141903386438916\n"
     ]
    },
    {
     "name": "stderr",
     "output_type": "stream",
     "text": [
      "\r",
      "  0%|          | 0/20 [00:00<?, ?it/s]"
     ]
    },
    {
     "name": "stdout",
     "output_type": "stream",
     "text": [
      "loss epoch: 1.3167395300559583\n",
      "Start evaluation...\n"
     ]
    },
    {
     "name": "stderr",
     "output_type": "stream",
     "text": [
      "100%|██████████| 20/20 [02:13<00:00,  6.53s/it]\n",
      "  0%|          | 0/100 [00:00<?, ?it/s]"
     ]
    },
    {
     "name": "stdout",
     "output_type": "stream",
     "text": [
      "pourcentage trained wins :  0.6153846153846154\n",
      "Not trained net wins 15 times, Trained net wins 24, 1 draws.\n",
      "Iteration 26 Model accepted !\n",
      "Iteration 27\n",
      "Getting experience...\n"
     ]
    },
    {
     "name": "stderr",
     "output_type": "stream",
     "text": [
      "100%|██████████| 100/100 [04:51<00:00,  2.86s/it]\n"
     ]
    },
    {
     "name": "stdout",
     "output_type": "stream",
     "text": [
      "Start training...\n",
      "loss epoch: 1.8012428510230496\n",
      "loss epoch: 1.5626947157352575\n",
      "loss epoch: 1.4575630972725215\n",
      "loss epoch: 1.4144000450401704\n",
      "loss epoch: 1.3854207187234873\n",
      "loss epoch: 1.355195917577622\n",
      "loss epoch: 1.3360947490014732\n",
      "loss epoch: 1.3143567427008618\n",
      "loss epoch: 1.305052059343212\n"
     ]
    },
    {
     "name": "stderr",
     "output_type": "stream",
     "text": [
      "\r",
      "  0%|          | 0/20 [00:00<?, ?it/s]"
     ]
    },
    {
     "name": "stdout",
     "output_type": "stream",
     "text": [
      "loss epoch: 1.298022576928277\n",
      "Start evaluation...\n"
     ]
    },
    {
     "name": "stderr",
     "output_type": "stream",
     "text": [
      "100%|██████████| 20/20 [02:11<00:00,  7.59s/it]\n",
      "  0%|          | 0/100 [00:00<?, ?it/s]"
     ]
    },
    {
     "name": "stdout",
     "output_type": "stream",
     "text": [
      "pourcentage trained wins :  0.65\n",
      "Not trained net wins 14 times, Trained net wins 26, 0 draws.\n",
      "Iteration 27 Model accepted !\n",
      "Iteration 28\n",
      "Getting experience...\n"
     ]
    },
    {
     "name": "stderr",
     "output_type": "stream",
     "text": [
      "100%|██████████| 100/100 [04:50<00:00,  3.19s/it]\n"
     ]
    },
    {
     "name": "stdout",
     "output_type": "stream",
     "text": [
      "Start training...\n",
      "loss epoch: 1.811736504856356\n",
      "loss epoch: 1.559394824080053\n",
      "loss epoch: 1.4649624649294235\n",
      "loss epoch: 1.4094971419708235\n",
      "loss epoch: 1.3627339618110443\n",
      "loss epoch: 1.3461301658626124\n",
      "loss epoch: 1.3325841794566216\n",
      "loss epoch: 1.321463676829115\n",
      "loss epoch: 1.2943386679768296\n"
     ]
    },
    {
     "name": "stderr",
     "output_type": "stream",
     "text": [
      "\r",
      "  0%|          | 0/20 [00:00<?, ?it/s]"
     ]
    },
    {
     "name": "stdout",
     "output_type": "stream",
     "text": [
      "loss epoch: 1.2906064399764905\n",
      "Start evaluation...\n"
     ]
    },
    {
     "name": "stderr",
     "output_type": "stream",
     "text": [
      "100%|██████████| 20/20 [02:09<00:00,  6.99s/it]\n",
      "  0%|          | 0/100 [00:00<?, ?it/s]"
     ]
    },
    {
     "name": "stdout",
     "output_type": "stream",
     "text": [
      "pourcentage trained wins :  0.55\n",
      "Not trained net wins 18 times, Trained net wins 22, 0 draws.\n",
      "Iteration 28 Model accepted !\n",
      "Iteration 29\n",
      "Getting experience...\n"
     ]
    },
    {
     "name": "stderr",
     "output_type": "stream",
     "text": [
      "100%|██████████| 100/100 [04:44<00:00,  2.47s/it]\n"
     ]
    },
    {
     "name": "stdout",
     "output_type": "stream",
     "text": [
      "Start training...\n",
      "loss epoch: 1.8197434531147456\n",
      "loss epoch: 1.5638924087103285\n",
      "loss epoch: 1.46490150913676\n",
      "loss epoch: 1.4053558421032732\n",
      "loss epoch: 1.3715342906127022\n",
      "loss epoch: 1.3395945577376143\n",
      "loss epoch: 1.3358017764546353\n",
      "loss epoch: 1.3126132444808976\n",
      "loss epoch: 1.2975357998989019\n"
     ]
    },
    {
     "name": "stderr",
     "output_type": "stream",
     "text": [
      "\r",
      "  0%|          | 0/20 [00:00<?, ?it/s]"
     ]
    },
    {
     "name": "stdout",
     "output_type": "stream",
     "text": [
      "loss epoch: 1.2867275211972056\n",
      "Start evaluation...\n"
     ]
    },
    {
     "name": "stderr",
     "output_type": "stream",
     "text": [
      "100%|██████████| 20/20 [02:22<00:00,  6.41s/it]"
     ]
    },
    {
     "name": "stdout",
     "output_type": "stream",
     "text": [
      "pourcentage trained wins :  0.45\n",
      "Not trained net wins 22 times, Trained net wins 18, 0 draws.\n"
     ]
    },
    {
     "name": "stderr",
     "output_type": "stream",
     "text": [
      "\n"
     ]
    }
   ],
   "source": [
    "coach.learn()"
   ]
  },
  {
   "cell_type": "code",
   "execution_count": null,
   "metadata": {},
   "outputs": [],
   "source": []
  },
  {
   "cell_type": "markdown",
   "metadata": {},
   "source": [
    "### Play with the agent"
   ]
  },
  {
   "cell_type": "code",
   "execution_count": 8,
   "metadata": {},
   "outputs": [],
   "source": [
    "def human_player(board):\n",
    "    valid_actions = np.where(board[0,:] == 0)[0]\n",
    "    done = False\n",
    "    while not done:\n",
    "        inp = int(input())\n",
    "        if inp in valid_actions:\n",
    "            done = True\n",
    "            return inp\n",
    "        else:\n",
    "            print('Invalid action, try again')"
   ]
  },
  {
   "cell_type": "code",
   "execution_count": null,
   "metadata": {},
   "outputs": [],
   "source": []
  },
  {
   "cell_type": "code",
   "execution_count": 9,
   "metadata": {},
   "outputs": [],
   "source": [
    "arena = Arena(lambda x: np.argmax(mcts.run_sims(x)), human_player, game)"
   ]
  },
  {
   "cell_type": "code",
   "execution_count": 10,
   "metadata": {
    "scrolled": false
   },
   "outputs": [
    {
     "name": "stdout",
     "output_type": "stream",
     "text": [
      "Turn  1 Previous action  None Player  1\n",
      "[[0. 0. 0. 0. 0. 0. 0.]\n",
      " [0. 0. 0. 0. 0. 0. 0.]\n",
      " [0. 0. 0. 0. 0. 0. 0.]\n",
      " [0. 0. 0. 0. 0. 0. 0.]\n",
      " [0. 0. 0. 0. 0. 0. 0.]\n",
      " [0. 0. 0. 0. 0. 0. 0.]]\n",
      "None\n",
      "Turn  2 Previous action  5 Player  -1\n",
      "[[0. 0. 0. 0. 0. 0. 0.]\n",
      " [0. 0. 0. 0. 0. 0. 0.]\n",
      " [0. 0. 0. 0. 0. 0. 0.]\n",
      " [0. 0. 0. 0. 0. 0. 0.]\n",
      " [0. 0. 0. 0. 0. 0. 0.]\n",
      " [0. 0. 0. 0. 0. 1. 0.]]\n",
      "None\n",
      "3\n",
      "Turn  3 Previous action  3 Player  1\n",
      "[[ 0.  0.  0.  0.  0.  0.  0.]\n",
      " [ 0.  0.  0.  0.  0.  0.  0.]\n",
      " [ 0.  0.  0.  0.  0.  0.  0.]\n",
      " [ 0.  0.  0.  0.  0.  0.  0.]\n",
      " [ 0.  0.  0.  0.  0.  0.  0.]\n",
      " [ 0.  0.  0. -1.  0.  1.  0.]]\n",
      "None\n",
      "Turn  4 Previous action  1 Player  -1\n",
      "[[ 0.  0.  0.  0.  0.  0.  0.]\n",
      " [ 0.  0.  0.  0.  0.  0.  0.]\n",
      " [ 0.  0.  0.  0.  0.  0.  0.]\n",
      " [ 0.  0.  0.  0.  0.  0.  0.]\n",
      " [ 0.  0.  0.  0.  0.  0.  0.]\n",
      " [ 0.  1.  0. -1.  0.  1.  0.]]\n",
      "None\n",
      "3\n",
      "Turn  5 Previous action  3 Player  1\n",
      "[[ 0.  0.  0.  0.  0.  0.  0.]\n",
      " [ 0.  0.  0.  0.  0.  0.  0.]\n",
      " [ 0.  0.  0.  0.  0.  0.  0.]\n",
      " [ 0.  0.  0.  0.  0.  0.  0.]\n",
      " [ 0.  0.  0. -1.  0.  0.  0.]\n",
      " [ 0.  1.  0. -1.  0.  1.  0.]]\n",
      "None\n",
      "Turn  6 Previous action  6 Player  -1\n",
      "[[ 0.  0.  0.  0.  0.  0.  0.]\n",
      " [ 0.  0.  0.  0.  0.  0.  0.]\n",
      " [ 0.  0.  0.  0.  0.  0.  0.]\n",
      " [ 0.  0.  0.  0.  0.  0.  0.]\n",
      " [ 0.  0.  0. -1.  0.  0.  0.]\n",
      " [ 0.  1.  0. -1.  0.  1.  1.]]\n",
      "None\n",
      "3\n",
      "Turn  7 Previous action  3 Player  1\n",
      "[[ 0.  0.  0.  0.  0.  0.  0.]\n",
      " [ 0.  0.  0.  0.  0.  0.  0.]\n",
      " [ 0.  0.  0.  0.  0.  0.  0.]\n",
      " [ 0.  0.  0. -1.  0.  0.  0.]\n",
      " [ 0.  0.  0. -1.  0.  0.  0.]\n",
      " [ 0.  1.  0. -1.  0.  1.  1.]]\n",
      "None\n",
      "Turn  8 Previous action  3 Player  -1\n",
      "[[ 0.  0.  0.  0.  0.  0.  0.]\n",
      " [ 0.  0.  0.  0.  0.  0.  0.]\n",
      " [ 0.  0.  0.  1.  0.  0.  0.]\n",
      " [ 0.  0.  0. -1.  0.  0.  0.]\n",
      " [ 0.  0.  0. -1.  0.  0.  0.]\n",
      " [ 0.  1.  0. -1.  0.  1.  1.]]\n",
      "None\n",
      "2\n",
      "Turn  9 Previous action  2 Player  1\n",
      "[[ 0.  0.  0.  0.  0.  0.  0.]\n",
      " [ 0.  0.  0.  0.  0.  0.  0.]\n",
      " [ 0.  0.  0.  1.  0.  0.  0.]\n",
      " [ 0.  0.  0. -1.  0.  0.  0.]\n",
      " [ 0.  0.  0. -1.  0.  0.  0.]\n",
      " [ 0.  1. -1. -1.  0.  1.  1.]]\n",
      "None\n",
      "Turn  10 Previous action  1 Player  -1\n",
      "[[ 0.  0.  0.  0.  0.  0.  0.]\n",
      " [ 0.  0.  0.  0.  0.  0.  0.]\n",
      " [ 0.  0.  0.  1.  0.  0.  0.]\n",
      " [ 0.  0.  0. -1.  0.  0.  0.]\n",
      " [ 0.  1.  0. -1.  0.  0.  0.]\n",
      " [ 0.  1. -1. -1.  0.  1.  1.]]\n",
      "None\n"
     ]
    },
    {
     "ename": "KeyboardInterrupt",
     "evalue": "",
     "output_type": "error",
     "traceback": [
      "\u001b[0;31m---------------------------------------------------------------------------\u001b[0m",
      "\u001b[0;31mKeyboardInterrupt\u001b[0m                         Traceback (most recent call last)",
      "\u001b[0;32m~/anaconda3/lib/python3.7/site-packages/ipykernel/kernelbase.py\u001b[0m in \u001b[0;36m_input_request\u001b[0;34m(self, prompt, ident, parent, password)\u001b[0m\n\u001b[1;32m    877\u001b[0m             \u001b[0;32mtry\u001b[0m\u001b[0;34m:\u001b[0m\u001b[0;34m\u001b[0m\u001b[0;34m\u001b[0m\u001b[0m\n\u001b[0;32m--> 878\u001b[0;31m                 \u001b[0mident\u001b[0m\u001b[0;34m,\u001b[0m \u001b[0mreply\u001b[0m \u001b[0;34m=\u001b[0m \u001b[0mself\u001b[0m\u001b[0;34m.\u001b[0m\u001b[0msession\u001b[0m\u001b[0;34m.\u001b[0m\u001b[0mrecv\u001b[0m\u001b[0;34m(\u001b[0m\u001b[0mself\u001b[0m\u001b[0;34m.\u001b[0m\u001b[0mstdin_socket\u001b[0m\u001b[0;34m,\u001b[0m \u001b[0;36m0\u001b[0m\u001b[0;34m)\u001b[0m\u001b[0;34m\u001b[0m\u001b[0;34m\u001b[0m\u001b[0m\n\u001b[0m\u001b[1;32m    879\u001b[0m             \u001b[0;32mexcept\u001b[0m \u001b[0mException\u001b[0m\u001b[0;34m:\u001b[0m\u001b[0;34m\u001b[0m\u001b[0;34m\u001b[0m\u001b[0m\n",
      "\u001b[0;32m~/anaconda3/lib/python3.7/site-packages/jupyter_client/session.py\u001b[0m in \u001b[0;36mrecv\u001b[0;34m(self, socket, mode, content, copy)\u001b[0m\n\u001b[1;32m    802\u001b[0m         \u001b[0;32mtry\u001b[0m\u001b[0;34m:\u001b[0m\u001b[0;34m\u001b[0m\u001b[0;34m\u001b[0m\u001b[0m\n\u001b[0;32m--> 803\u001b[0;31m             \u001b[0mmsg_list\u001b[0m \u001b[0;34m=\u001b[0m \u001b[0msocket\u001b[0m\u001b[0;34m.\u001b[0m\u001b[0mrecv_multipart\u001b[0m\u001b[0;34m(\u001b[0m\u001b[0mmode\u001b[0m\u001b[0;34m,\u001b[0m \u001b[0mcopy\u001b[0m\u001b[0;34m=\u001b[0m\u001b[0mcopy\u001b[0m\u001b[0;34m)\u001b[0m\u001b[0;34m\u001b[0m\u001b[0;34m\u001b[0m\u001b[0m\n\u001b[0m\u001b[1;32m    804\u001b[0m         \u001b[0;32mexcept\u001b[0m \u001b[0mzmq\u001b[0m\u001b[0;34m.\u001b[0m\u001b[0mZMQError\u001b[0m \u001b[0;32mas\u001b[0m \u001b[0me\u001b[0m\u001b[0;34m:\u001b[0m\u001b[0;34m\u001b[0m\u001b[0;34m\u001b[0m\u001b[0m\n",
      "\u001b[0;32m~/anaconda3/lib/python3.7/site-packages/zmq/sugar/socket.py\u001b[0m in \u001b[0;36mrecv_multipart\u001b[0;34m(self, flags, copy, track)\u001b[0m\n\u001b[1;32m    466\u001b[0m         \"\"\"\n\u001b[0;32m--> 467\u001b[0;31m         \u001b[0mparts\u001b[0m \u001b[0;34m=\u001b[0m \u001b[0;34m[\u001b[0m\u001b[0mself\u001b[0m\u001b[0;34m.\u001b[0m\u001b[0mrecv\u001b[0m\u001b[0;34m(\u001b[0m\u001b[0mflags\u001b[0m\u001b[0;34m,\u001b[0m \u001b[0mcopy\u001b[0m\u001b[0;34m=\u001b[0m\u001b[0mcopy\u001b[0m\u001b[0;34m,\u001b[0m \u001b[0mtrack\u001b[0m\u001b[0;34m=\u001b[0m\u001b[0mtrack\u001b[0m\u001b[0;34m)\u001b[0m\u001b[0;34m]\u001b[0m\u001b[0;34m\u001b[0m\u001b[0;34m\u001b[0m\u001b[0m\n\u001b[0m\u001b[1;32m    468\u001b[0m         \u001b[0;31m# have first part already, only loop while more to receive\u001b[0m\u001b[0;34m\u001b[0m\u001b[0;34m\u001b[0m\u001b[0;34m\u001b[0m\u001b[0m\n",
      "\u001b[0;32mzmq/backend/cython/socket.pyx\u001b[0m in \u001b[0;36mzmq.backend.cython.socket.Socket.recv\u001b[0;34m()\u001b[0m\n",
      "\u001b[0;32mzmq/backend/cython/socket.pyx\u001b[0m in \u001b[0;36mzmq.backend.cython.socket.Socket.recv\u001b[0;34m()\u001b[0m\n",
      "\u001b[0;32mzmq/backend/cython/socket.pyx\u001b[0m in \u001b[0;36mzmq.backend.cython.socket._recv_copy\u001b[0;34m()\u001b[0m\n",
      "\u001b[0;32m~/anaconda3/lib/python3.7/site-packages/zmq/backend/cython/checkrc.pxd\u001b[0m in \u001b[0;36mzmq.backend.cython.checkrc._check_rc\u001b[0;34m()\u001b[0m\n",
      "\u001b[0;31mKeyboardInterrupt\u001b[0m: ",
      "\nDuring handling of the above exception, another exception occurred:\n",
      "\u001b[0;31mKeyboardInterrupt\u001b[0m                         Traceback (most recent call last)",
      "\u001b[0;32m<ipython-input-10-9696bdb77747>\u001b[0m in \u001b[0;36m<module>\u001b[0;34m\u001b[0m\n\u001b[0;32m----> 1\u001b[0;31m \u001b[0marena\u001b[0m\u001b[0;34m.\u001b[0m\u001b[0mplay_game\u001b[0m\u001b[0;34m(\u001b[0m\u001b[0mverbose\u001b[0m\u001b[0;34m=\u001b[0m\u001b[0;32mTrue\u001b[0m\u001b[0;34m)\u001b[0m\u001b[0;34m\u001b[0m\u001b[0;34m\u001b[0m\u001b[0m\n\u001b[0m",
      "\u001b[0;32m~/Documents/alpha-zero-connect4/arena.py\u001b[0m in \u001b[0;36mplay_game\u001b[0;34m(self, verbose, start)\u001b[0m\n\u001b[1;32m     21\u001b[0m                 \u001b[0mprint\u001b[0m\u001b[0;34m(\u001b[0m\u001b[0;34m\"Turn \"\u001b[0m\u001b[0;34m,\u001b[0m \u001b[0mstr\u001b[0m\u001b[0;34m(\u001b[0m\u001b[0mit\u001b[0m\u001b[0;34m)\u001b[0m\u001b[0;34m,\u001b[0m \u001b[0;34m\"Previous action \"\u001b[0m\u001b[0;34m,\u001b[0m \u001b[0mstr\u001b[0m\u001b[0;34m(\u001b[0m\u001b[0maction\u001b[0m\u001b[0;34m)\u001b[0m\u001b[0;34m,\u001b[0m  \u001b[0;34m\"Player \"\u001b[0m\u001b[0;34m,\u001b[0m \u001b[0mstr\u001b[0m\u001b[0;34m(\u001b[0m\u001b[0mcurPlayer\u001b[0m\u001b[0;34m)\u001b[0m\u001b[0;34m)\u001b[0m\u001b[0;34m\u001b[0m\u001b[0;34m\u001b[0m\u001b[0m\n\u001b[1;32m     22\u001b[0m                 \u001b[0mprint\u001b[0m\u001b[0;34m(\u001b[0m\u001b[0mself\u001b[0m\u001b[0;34m.\u001b[0m\u001b[0mgame\u001b[0m\u001b[0;34m.\u001b[0m\u001b[0mrender\u001b[0m\u001b[0;34m(\u001b[0m\u001b[0mboard\u001b[0m\u001b[0;34m)\u001b[0m\u001b[0;34m)\u001b[0m\u001b[0;34m\u001b[0m\u001b[0;34m\u001b[0m\u001b[0m\n\u001b[0;32m---> 23\u001b[0;31m             \u001b[0maction\u001b[0m \u001b[0;34m=\u001b[0m \u001b[0mself\u001b[0m\u001b[0;34m.\u001b[0m\u001b[0mplayers\u001b[0m\u001b[0;34m[\u001b[0m\u001b[0mcurPlayer\u001b[0m\u001b[0;34m]\u001b[0m\u001b[0;34m(\u001b[0m\u001b[0mself\u001b[0m\u001b[0;34m.\u001b[0m\u001b[0mgame\u001b[0m\u001b[0;34m.\u001b[0m\u001b[0mget_canonical_form\u001b[0m\u001b[0;34m(\u001b[0m\u001b[0mboard\u001b[0m\u001b[0;34m,\u001b[0m \u001b[0mcurPlayer\u001b[0m\u001b[0;34m)\u001b[0m\u001b[0;34m)\u001b[0m\u001b[0;34m\u001b[0m\u001b[0;34m\u001b[0m\u001b[0m\n\u001b[0m\u001b[1;32m     24\u001b[0m \u001b[0;34m\u001b[0m\u001b[0m\n\u001b[1;32m     25\u001b[0m             \u001b[0mvalids\u001b[0m \u001b[0;34m=\u001b[0m \u001b[0mself\u001b[0m\u001b[0;34m.\u001b[0m\u001b[0mgame\u001b[0m\u001b[0;34m.\u001b[0m\u001b[0mallowed_actions\u001b[0m\u001b[0;34m(\u001b[0m\u001b[0mboard\u001b[0m\u001b[0;34m)\u001b[0m\u001b[0;34m\u001b[0m\u001b[0;34m\u001b[0m\u001b[0m\n",
      "\u001b[0;32m<ipython-input-8-56cfdedb4b96>\u001b[0m in \u001b[0;36mhuman_player\u001b[0;34m(board)\u001b[0m\n\u001b[1;32m      3\u001b[0m     \u001b[0mdone\u001b[0m \u001b[0;34m=\u001b[0m \u001b[0;32mFalse\u001b[0m\u001b[0;34m\u001b[0m\u001b[0;34m\u001b[0m\u001b[0m\n\u001b[1;32m      4\u001b[0m     \u001b[0;32mwhile\u001b[0m \u001b[0;32mnot\u001b[0m \u001b[0mdone\u001b[0m\u001b[0;34m:\u001b[0m\u001b[0;34m\u001b[0m\u001b[0;34m\u001b[0m\u001b[0m\n\u001b[0;32m----> 5\u001b[0;31m         \u001b[0minp\u001b[0m \u001b[0;34m=\u001b[0m \u001b[0mint\u001b[0m\u001b[0;34m(\u001b[0m\u001b[0minput\u001b[0m\u001b[0;34m(\u001b[0m\u001b[0;34m)\u001b[0m\u001b[0;34m)\u001b[0m\u001b[0;34m\u001b[0m\u001b[0;34m\u001b[0m\u001b[0m\n\u001b[0m\u001b[1;32m      6\u001b[0m         \u001b[0;32mif\u001b[0m \u001b[0minp\u001b[0m \u001b[0;32min\u001b[0m \u001b[0mvalid_actions\u001b[0m\u001b[0;34m:\u001b[0m\u001b[0;34m\u001b[0m\u001b[0;34m\u001b[0m\u001b[0m\n\u001b[1;32m      7\u001b[0m             \u001b[0mdone\u001b[0m \u001b[0;34m=\u001b[0m \u001b[0;32mTrue\u001b[0m\u001b[0;34m\u001b[0m\u001b[0;34m\u001b[0m\u001b[0m\n",
      "\u001b[0;32m~/anaconda3/lib/python3.7/site-packages/ipykernel/kernelbase.py\u001b[0m in \u001b[0;36mraw_input\u001b[0;34m(self, prompt)\u001b[0m\n\u001b[1;32m    851\u001b[0m             \u001b[0mself\u001b[0m\u001b[0;34m.\u001b[0m\u001b[0m_parent_ident\u001b[0m\u001b[0;34m,\u001b[0m\u001b[0;34m\u001b[0m\u001b[0;34m\u001b[0m\u001b[0m\n\u001b[1;32m    852\u001b[0m             \u001b[0mself\u001b[0m\u001b[0;34m.\u001b[0m\u001b[0m_parent_header\u001b[0m\u001b[0;34m,\u001b[0m\u001b[0;34m\u001b[0m\u001b[0;34m\u001b[0m\u001b[0m\n\u001b[0;32m--> 853\u001b[0;31m             \u001b[0mpassword\u001b[0m\u001b[0;34m=\u001b[0m\u001b[0;32mFalse\u001b[0m\u001b[0;34m,\u001b[0m\u001b[0;34m\u001b[0m\u001b[0;34m\u001b[0m\u001b[0m\n\u001b[0m\u001b[1;32m    854\u001b[0m         )\n\u001b[1;32m    855\u001b[0m \u001b[0;34m\u001b[0m\u001b[0m\n",
      "\u001b[0;32m~/anaconda3/lib/python3.7/site-packages/ipykernel/kernelbase.py\u001b[0m in \u001b[0;36m_input_request\u001b[0;34m(self, prompt, ident, parent, password)\u001b[0m\n\u001b[1;32m    881\u001b[0m             \u001b[0;32mexcept\u001b[0m \u001b[0mKeyboardInterrupt\u001b[0m\u001b[0;34m:\u001b[0m\u001b[0;34m\u001b[0m\u001b[0;34m\u001b[0m\u001b[0m\n\u001b[1;32m    882\u001b[0m                 \u001b[0;31m# re-raise KeyboardInterrupt, to truncate traceback\u001b[0m\u001b[0;34m\u001b[0m\u001b[0;34m\u001b[0m\u001b[0;34m\u001b[0m\u001b[0m\n\u001b[0;32m--> 883\u001b[0;31m                 \u001b[0;32mraise\u001b[0m \u001b[0mKeyboardInterrupt\u001b[0m\u001b[0;34m\u001b[0m\u001b[0;34m\u001b[0m\u001b[0m\n\u001b[0m\u001b[1;32m    884\u001b[0m             \u001b[0;32melse\u001b[0m\u001b[0;34m:\u001b[0m\u001b[0;34m\u001b[0m\u001b[0;34m\u001b[0m\u001b[0m\n\u001b[1;32m    885\u001b[0m                 \u001b[0;32mbreak\u001b[0m\u001b[0;34m\u001b[0m\u001b[0;34m\u001b[0m\u001b[0m\n",
      "\u001b[0;31mKeyboardInterrupt\u001b[0m: "
     ]
    }
   ],
   "source": [
    "arena.play_game(verbose=True)"
   ]
  },
  {
   "cell_type": "code",
   "execution_count": null,
   "metadata": {},
   "outputs": [],
   "source": []
  },
  {
   "cell_type": "code",
   "execution_count": null,
   "metadata": {},
   "outputs": [],
   "source": []
  },
  {
   "cell_type": "code",
   "execution_count": null,
   "metadata": {},
   "outputs": [],
   "source": []
  },
  {
   "cell_type": "code",
   "execution_count": null,
   "metadata": {},
   "outputs": [],
   "source": []
  },
  {
   "cell_type": "code",
   "execution_count": null,
   "metadata": {},
   "outputs": [],
   "source": []
  },
  {
   "cell_type": "code",
   "execution_count": null,
   "metadata": {},
   "outputs": [],
   "source": []
  },
  {
   "cell_type": "code",
   "execution_count": null,
   "metadata": {},
   "outputs": [],
   "source": []
  },
  {
   "cell_type": "code",
   "execution_count": null,
   "metadata": {},
   "outputs": [],
   "source": []
  }
 ],
 "metadata": {
  "kernelspec": {
   "display_name": "Python 3",
   "language": "python",
   "name": "python3"
  },
  "language_info": {
   "codemirror_mode": {
    "name": "ipython",
    "version": 3
   },
   "file_extension": ".py",
   "mimetype": "text/x-python",
   "name": "python",
   "nbconvert_exporter": "python",
   "pygments_lexer": "ipython3",
   "version": "3.7.1"
  }
 },
 "nbformat": 4,
 "nbformat_minor": 2
}
