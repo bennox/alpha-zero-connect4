{
 "cells": [
  {
   "cell_type": "code",
   "execution_count": 1,
   "metadata": {},
   "outputs": [],
   "source": [
    "import numpy as np\n",
    "from game import Connect4\n",
    "from network import ConnectNet"
   ]
  },
  {
   "cell_type": "code",
   "execution_count": 2,
   "metadata": {},
   "outputs": [],
   "source": [
    "import torch"
   ]
  },
  {
   "cell_type": "code",
   "execution_count": 3,
   "metadata": {},
   "outputs": [],
   "source": [
    "class Node:\n",
    "    def __init__(self, state, turn):\n",
    "        self.id = str(state)\n",
    "        self.state = state\n",
    "        self.turn = turn\n",
    "        self.edges = []\n",
    "        \n",
    "    def is_leaf(self):\n",
    "        return len(self.edges) == 0\n",
    "    \n",
    "class Edge:\n",
    "    def __init__(self, parent, child, prior, action):\n",
    "        self.id = (parent.id, str(action))\n",
    "        self.parent = parent\n",
    "        self.child = child\n",
    "        self.turn = parent.turn\n",
    "        self.action = action\n",
    "        \n",
    "        self.N = 0\n",
    "        self.W = 0\n",
    "        self.Q = 0\n",
    "        self.P = prior"
   ]
  },
  {
   "cell_type": "code",
   "execution_count": 346,
   "metadata": {},
   "outputs": [],
   "source": [
    "class MCTS:\n",
    "    def __init__(self, root, turn, game, net, args):\n",
    "        self.root = Node(root, turn)\n",
    "        self.game = game\n",
    "        self.net = net\n",
    "        self.args = args\n",
    "        self.tree = {}\n",
    "        self.tree[str(root)] = self.root\n",
    "        \n",
    "    \n",
    "    def select_leaf(self):\n",
    "        branch = []\n",
    "        current_node = self.root\n",
    "        \n",
    "        while current_node.is_leaf() == False:\n",
    "            best_qu = -np.inf\n",
    "            best_edge = None\n",
    "\n",
    "            Nb = 0\n",
    "            for edge in current_node.edges:\n",
    "                Nb += edge.N\n",
    "            \n",
    "            if Nb == 0:\n",
    "                Nb += 1\n",
    "            \n",
    "            # Adding dirichlet noise to the root node for exploration\n",
    "            if current_node == self.root:\n",
    "                nu = np.random.dirichlet([self.args['alpha']] * len(current_node.edges))\n",
    "                epsilon = self.args['epsilon']\n",
    "                \n",
    "            else:\n",
    "                epsilon = 0\n",
    "                nu = [0] * len(current_node.edges)\n",
    "\n",
    "            # select the next node\n",
    "            for i, edge in enumerate(current_node.edges):\n",
    "                u = self.args['cpuct'] * ((1-epsilon) * edge.P + epsilon * nu[i]) * np.sqrt(Nb) / (1 + edge.N)\n",
    "                q = edge.Q\n",
    "            \n",
    "                if q + u > best_qu:\n",
    "                    best_qu = q + u\n",
    "                    best_edge = edge\n",
    "#                print(i,\"q\" , q, \"u\", u, \"Nb\", Nb)\n",
    "                \n",
    "            branch.append(best_edge)\n",
    "            current_node = best_edge.child\n",
    "        \n",
    "        winner = self.game.check_winner(current_node.state)\n",
    "        \n",
    "        return current_node, winner, branch\n",
    "    \n",
    "    def expand_evaluate(self, leaf, winner):\n",
    "        if winner == 1:\n",
    "            return 1.\n",
    "        elif winner == -1:\n",
    "            return -1.\n",
    "        elif winner == 2:\n",
    "            return 1e-4\n",
    "        else:\n",
    "            probs, value = self.net(torch.tensor(leaf.state).float().to(self.args['device']))\n",
    "            probs, value = probs.detach().squeeze().cpu().numpy(), value.detach().squeeze().cpu().numpy()\n",
    "            valid_actions = np.array([1 if i in self.game.allowed_actions(leaf.state) else 0 for i in range(7)])\n",
    "            # Masking invalid moves and normalize\n",
    "            probs = probs * valid_actions\n",
    "            probs = probs / np.sum(probs)\n",
    "            \n",
    "            # Expand the tree according to all possible actions\n",
    "            for i, a in enumerate(self.game.allowed_actions(leaf.state)):\n",
    "                next_state, next_turn = self.game.step(a, leaf.state, leaf.turn)\n",
    "                if str(next_state) not in self.tree.keys():\n",
    "                    node = Node(next_state, next_turn)\n",
    "                    self.tree[str(next_state)] = node\n",
    "                else:\n",
    "                    node = self.tree[str(next_state)]\n",
    "                \n",
    "                new_edge = Edge(leaf, node, probs[i], a)\n",
    "                leaf.edges.append(new_edge)\n",
    "        return value\n",
    "\n",
    "    def backup(self, leaf, value, branch):\n",
    "        leaf_turn = leaf.turn\n",
    "#        print(\"leaf turn\", leaf_turn)\n",
    "        for edge in branch:\n",
    "            turn = edge.turn\n",
    "            if turn == leaf_turn:\n",
    "                sgn = 1\n",
    "            else:\n",
    "                sgn = -1\n",
    "                \n",
    "            edge.N += 1\n",
    "            edge.W += sgn * value\n",
    "            edge.Q = edge.W / edge.N\n",
    "    \n",
    "    def search(self):\n",
    "        # Select the branch\n",
    "        leaf, winner, branch = self.select_leaf()\n",
    "        # Evaluate and expand\n",
    "        value = self.expand_evaluate(leaf, winner)\n",
    "        # Back up the value in the branch\n",
    "        self.backup(leaf, value, branch)\n",
    "    \n",
    "    def act(self, tau):\n",
    "        for s in range(self.args['n_sim']):\n",
    "            self.search()\n",
    "        edges = self.root.edges\n",
    "        pi = [0] * 7\n",
    "        values = [0] * 7\n",
    "        for edge in edges:\n",
    "            pi[edge.action] = edge.N ** (1/tau)\n",
    "            values[edge.action] = edge.Q\n",
    "        pi = np.array(pi)\n",
    "        pi /= pi.sum()\n",
    "        return pi, values\n",
    "\n",
    "    def rollout_policy(self, node, turn):\n",
    "        state = node.state\n",
    "        while game.check_winner(state) == 0:\n",
    "            random_action = np.random.choice(game.allowed_actions(state))\n",
    "            state, turn = game.step(random_action, state, turn)\n",
    "        return game.check_winner(state) \n",
    "\n",
    "    \n",
    "    def set_root(self, node_id):\n",
    "        self.root = self.tree[node_id]"
   ]
  },
  {
   "cell_type": "code",
   "execution_count": 347,
   "metadata": {},
   "outputs": [],
   "source": [
    "jeu = Connect4()"
   ]
  },
  {
   "cell_type": "code",
   "execution_count": 348,
   "metadata": {},
   "outputs": [],
   "source": [
    "net = ConnectNet()"
   ]
  },
  {
   "cell_type": "code",
   "execution_count": 349,
   "metadata": {},
   "outputs": [],
   "source": [
    "net.load_state_dict(torch.load('networks_saved/net_init.pth',\n",
    "                               map_location='cpu'))"
   ]
  },
  {
   "cell_type": "code",
   "execution_count": 354,
   "metadata": {},
   "outputs": [],
   "source": [
    "args = {\n",
    "    \"alpha\":0.03,\n",
    "    \"epsilon\":0.2,\n",
    "    \"cpuct\":1.,\n",
    "    \"device\":\"cpu\",\n",
    "    \"n_sim\":10,\n",
    "}"
   ]
  },
  {
   "cell_type": "code",
   "execution_count": 355,
   "metadata": {},
   "outputs": [],
   "source": [
    "mcts = MCTS(jeu.init_state, 1, jeu, net, args)"
   ]
  },
  {
   "cell_type": "code",
   "execution_count": 356,
   "metadata": {
    "scrolled": false
   },
   "outputs": [],
   "source": [
    "pi, values = mcts.act(1.)"
   ]
  },
  {
   "cell_type": "code",
   "execution_count": 357,
   "metadata": {},
   "outputs": [
    {
     "data": {
      "text/plain": [
       "array([0.11111111, 0.        , 0.        , 0.22222222, 0.66666667,\n",
       "       0.        , 0.        ])"
      ]
     },
     "execution_count": 357,
     "metadata": {},
     "output_type": "execute_result"
    }
   ],
   "source": [
    "pi"
   ]
  },
  {
   "cell_type": "code",
   "execution_count": 358,
   "metadata": {},
   "outputs": [
    {
     "name": "stdout",
     "output_type": "stream",
     "text": [
      "0.7561668157577515\n",
      "0\n",
      "0\n",
      "-0.25872988253831863\n",
      "0.4237784097592036\n",
      "0\n",
      "0\n"
     ]
    }
   ],
   "source": [
    "for e in mcts.root.edges:\n",
    "    print(e.Q)"
   ]
  },
  {
   "cell_type": "code",
   "execution_count": 165,
   "metadata": {},
   "outputs": [],
   "source": [
    "a1,_ = jeu.step(0, jeu.init_state, 1)"
   ]
  },
  {
   "cell_type": "code",
   "execution_count": 167,
   "metadata": {},
   "outputs": [],
   "source": [
    "a4,_ = jeu.step(3, jeu.init_state, 1)"
   ]
  },
  {
   "cell_type": "code",
   "execution_count": 166,
   "metadata": {},
   "outputs": [
    {
     "data": {
      "text/plain": [
       "(tensor([[0.0626, 0.0357, 0.0063, 0.6230, 0.0010, 0.1753, 0.0960]],\n",
       "        grad_fn=<ExpBackward>), tensor([[-0.7562]], grad_fn=<TanhBackward>))"
      ]
     },
     "execution_count": 166,
     "metadata": {},
     "output_type": "execute_result"
    }
   ],
   "source": [
    "net(torch.tensor(a1).float())"
   ]
  },
  {
   "cell_type": "code",
   "execution_count": 168,
   "metadata": {},
   "outputs": [
    {
     "data": {
      "text/plain": [
       "(tensor([[0.1201, 0.0305, 0.7931, 0.0255, 0.0023, 0.0256, 0.0028]],\n",
       "        grad_fn=<ExpBackward>), tensor([[0.1401]], grad_fn=<TanhBackward>))"
      ]
     },
     "execution_count": 168,
     "metadata": {},
     "output_type": "execute_result"
    }
   ],
   "source": [
    "net(torch.tensor(a4).float())"
   ]
  },
  {
   "cell_type": "code",
   "execution_count": 320,
   "metadata": {},
   "outputs": [],
   "source": [
    "a43,_ = jeu.step(2, a4, -1)"
   ]
  },
  {
   "cell_type": "code",
   "execution_count": 322,
   "metadata": {},
   "outputs": [
    {
     "data": {
      "text/plain": [
       "(tensor([[0.2767, 0.0425, 0.0249, 0.2779, 0.0484, 0.0199, 0.3097]],\n",
       "        grad_fn=<ExpBackward>), tensor([[-0.3774]], grad_fn=<TanhBackward>))"
      ]
     },
     "execution_count": 322,
     "metadata": {},
     "output_type": "execute_result"
    }
   ],
   "source": [
    "net(torch.tensor(a43).float())"
   ]
  }
 ],
 "metadata": {
  "kernelspec": {
   "display_name": "Python 3",
   "language": "python",
   "name": "python3"
  },
  "language_info": {
   "codemirror_mode": {
    "name": "ipython",
    "version": 3
   },
   "file_extension": ".py",
   "mimetype": "text/x-python",
   "name": "python",
   "nbconvert_exporter": "python",
   "pygments_lexer": "ipython3",
   "version": "3.7.1"
  }
 },
 "nbformat": 4,
 "nbformat_minor": 2
}
