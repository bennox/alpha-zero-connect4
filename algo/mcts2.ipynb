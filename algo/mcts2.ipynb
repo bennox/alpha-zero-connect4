{
 "cells": [
  {
   "cell_type": "code",
   "execution_count": 2,
   "metadata": {},
   "outputs": [],
   "source": [
    "import numpy as np\n",
    "from game import Connect4\n",
    "from network import ConnectNet"
   ]
  },
  {
   "cell_type": "code",
   "execution_count": 100,
   "metadata": {},
   "outputs": [],
   "source": [
    "class Node():\n",
    "    # Data structure to keep track of our search\n",
    "    def __init__(self, state, parent=None, parent_action=None):\n",
    "        self.visits = 0 # Initialize at 0 because we will set +1 after a back up\n",
    "        self.state = state\n",
    "        self.children = []\n",
    "        self.children_move = []\n",
    "        self.valid_actions = np.where(state[0,:] == 0)[0]\n",
    "        self.parent = parent\n",
    "        self.parent_action = parent_action\n",
    "        \n",
    "        # Stats mcts\n",
    "        \n",
    "        priors = None\n",
    "        q_value = [0 for _ in range(7)]\n",
    "        total_q = [0 for _ in range(7)]\n",
    "        N_a = [0 for _ in range(7)]\n",
    "        \n",
    "\n",
    "    def add_child(self ,child_state, action):\n",
    "        child = Node(child_state, self, action)\n",
    "        self.children.append(child)\n",
    "        self.children_move.append(action)\n",
    "\n",
    "    def update(self, reward, action):\n",
    "        self.total_q[action] += reward\n",
    "        self.N_a[action] += 1\n",
    "        self.q_value[action] = self.total_q[a] / self.N_a[action]\n",
    "\n",
    "    def fully_explored(self):\n",
    "        if len(self.children) == len(self.valid_actions):\n",
    "            return True\n",
    "        return False"
   ]
  },
  {
   "cell_type": "code",
   "execution_count": 99,
   "metadata": {},
   "outputs": [],
   "source": [
    "def mcts(n_iter, root, turn, factor):\n",
    "    for _ in range(n_iter):\n",
    "        leaf, turn = selection_policy(root ,turn, factor)\n",
    "        reward = rollout_policy(leaf, turn)\n",
    "        backup(leaf, reward, turn)\n",
    "\n",
    "    out = best_child(root, 0)\n",
    "    return out\n",
    "\n",
    "def selection_policy(node, turn , factor, stochastic=True):\n",
    "    \"\"\"\n",
    "    We select the best branch until reaching a leaf node (non explored one or terminal one).\n",
    "    \"\"\"\n",
    "    while game.check_winner(node.state) == 0:\n",
    "        if (node.fully_explored() == False):\n",
    "            return expand(node, turn), -turn\n",
    "        else:\n",
    "            node = select_child(node, factor, stochastic=stochastic)\n",
    "            turn *= -1\n",
    "    return node, turn\n",
    "\n",
    "def expand(node, turn):\n",
    "    not_tried_moves = [a for a in node.valid_actions if a not in node.children_move]\n",
    "    move = np.random.choice(not_tried_moves)\n",
    "    new_state, turn = game.step(move, node.state, turn)\n",
    "\n",
    "    node.addChild(new_state, move)\n",
    "    return node.children[-1]\n",
    "\n",
    "def select_child(node, exploration_constant, stochastic):\n",
    "    best_score = -np.inf\n",
    "    for c in node.children:\n",
    "        exploit = c.reward / c.visits\n",
    "        explore = np.sqrt(np.log(2.0*node.visits)/float(c.visits))\n",
    "        score = exploit + exploration_constant*explore\n",
    "        if score > best_score:\n",
    "            bestChild = c\n",
    "            bestscore = score \n",
    "    return bestChild\n",
    "\n",
    "def rollout_policy(node, turn):\n",
    "    state = node.state\n",
    "    while game.check_winner(state) == 0:\n",
    "        random_action = np.random.choice(game.allowed_actions(state))\n",
    "        state, turn = game.step(random_action, state, turn)\n",
    "    return game.check_winner(state) \n",
    "\n",
    "def backup(node, reward, turn):\n",
    "    while node != None:\n",
    "        node.visits += 1 \n",
    "        node.reward -= turn*reward\n",
    "        node = node.parent\n",
    "        turn *= -1\n",
    "    return\n"
   ]
  },
  {
   "cell_type": "code",
   "execution_count": 13,
   "metadata": {},
   "outputs": [],
   "source": [
    "game = Connect4()"
   ]
  },
  {
   "cell_type": "code",
   "execution_count": 14,
   "metadata": {},
   "outputs": [
    {
     "data": {
      "text/plain": [
       "array([[0., 0., 0., 0., 0., 0., 0.],\n",
       "       [0., 0., 0., 0., 0., 0., 0.],\n",
       "       [0., 0., 0., 0., 0., 0., 0.],\n",
       "       [0., 0., 0., 0., 0., 0., 0.],\n",
       "       [0., 0., 0., 0., 0., 0., 0.],\n",
       "       [0., 0., 0., 0., 0., 0., 0.]])"
      ]
     },
     "execution_count": 14,
     "metadata": {},
     "output_type": "execute_result"
    }
   ],
   "source": [
    "game.init_state"
   ]
  },
  {
   "cell_type": "code",
   "execution_count": 104,
   "metadata": {},
   "outputs": [],
   "source": [
    "c1, _ = game.step(3, game.init_state, 1)"
   ]
  },
  {
   "cell_type": "code",
   "execution_count": 105,
   "metadata": {},
   "outputs": [
    {
     "data": {
      "text/plain": [
       "array([[0., 0., 0., 0., 0., 0., 0.],\n",
       "       [0., 0., 0., 0., 0., 0., 0.],\n",
       "       [0., 0., 0., 0., 0., 0., 0.],\n",
       "       [0., 0., 0., 0., 0., 0., 0.],\n",
       "       [0., 0., 0., 0., 0., 0., 0.],\n",
       "       [0., 0., 0., 1., 0., 0., 0.]])"
      ]
     },
     "execution_count": 105,
     "metadata": {},
     "output_type": "execute_result"
    }
   ],
   "source": [
    "c1"
   ]
  },
  {
   "cell_type": "code",
   "execution_count": 101,
   "metadata": {},
   "outputs": [],
   "source": [
    "n = Node(game.init_state)"
   ]
  },
  {
   "cell_type": "code",
   "execution_count": 106,
   "metadata": {},
   "outputs": [],
   "source": [
    "n.add_child(c1, 3)"
   ]
  },
  {
   "cell_type": "code",
   "execution_count": 110,
   "metadata": {},
   "outputs": [
    {
     "data": {
      "text/plain": [
       "<__main__.Node at 0x7ff5a05239b0>"
      ]
     },
     "execution_count": 110,
     "metadata": {},
     "output_type": "execute_result"
    }
   ],
   "source": [
    "n.children[0].parent"
   ]
  },
  {
   "cell_type": "code",
   "execution_count": 98,
   "metadata": {},
   "outputs": [
    {
     "name": "stdout",
     "output_type": "stream",
     "text": [
      "Children visited\n",
      "[]\n",
      "Children visited\n",
      "[1]\n",
      "Children visited\n",
      "[1, 1]\n",
      "Children visited\n",
      "[1, 1, 1]\n",
      "Children visited\n",
      "[1, 1, 1, 1]\n",
      "Children visited\n",
      "[1, 1, 1, 1, 1]\n",
      "Children visited\n",
      "[1, 1, 1, 1, 1, 1]\n",
      "Children visited\n",
      "[1, 1, 1, 1, 1, 1, 1]\n",
      "Children visited\n",
      "[1, 1, 2, 1, 1, 1, 1]\n",
      "Children visited\n",
      "[1, 1, 2, 2, 1, 1, 1]\n"
     ]
    }
   ],
   "source": [
    "c = mcts(maxIter=10, root=n, turn=1, factor=1)"
   ]
  },
  {
   "cell_type": "code",
   "execution_count": 90,
   "metadata": {},
   "outputs": [
    {
     "data": {
      "text/plain": [
       "False"
      ]
     },
     "execution_count": 90,
     "metadata": {},
     "output_type": "execute_result"
    }
   ],
   "source": [
    "n.fully_explored()"
   ]
  },
  {
   "cell_type": "code",
   "execution_count": 91,
   "metadata": {},
   "outputs": [
    {
     "data": {
      "text/plain": [
       "2"
      ]
     },
     "execution_count": 91,
     "metadata": {},
     "output_type": "execute_result"
    }
   ],
   "source": [
    "len(n.children)"
   ]
  },
  {
   "cell_type": "code",
   "execution_count": 92,
   "metadata": {},
   "outputs": [
    {
     "name": "stdout",
     "output_type": "stream",
     "text": [
      "1.0\n",
      "1.0\n"
     ]
    }
   ],
   "source": [
    "for ch in n.children:\n",
    "    print(ch.reward)"
   ]
  },
  {
   "cell_type": "code",
   "execution_count": 93,
   "metadata": {},
   "outputs": [
    {
     "data": {
      "text/plain": [
       "array([[0., 0., 0., 0., 0., 0., 0.],\n",
       "       [0., 0., 0., 0., 0., 0., 0.],\n",
       "       [0., 0., 0., 0., 0., 0., 0.],\n",
       "       [0., 0., 0., 0., 0., 0., 0.],\n",
       "       [0., 0., 0., 0., 0., 0., 0.],\n",
       "       [0., 0., 1., 0., 0., 0., 0.]])"
      ]
     },
     "execution_count": 93,
     "metadata": {},
     "output_type": "execute_result"
    }
   ],
   "source": [
    "bestChild(n, 1).state"
   ]
  },
  {
   "cell_type": "code",
   "execution_count": null,
   "metadata": {},
   "outputs": [],
   "source": []
  }
 ],
 "metadata": {
  "kernelspec": {
   "display_name": "Python 3",
   "language": "python",
   "name": "python3"
  },
  "language_info": {
   "codemirror_mode": {
    "name": "ipython",
    "version": 3
   },
   "file_extension": ".py",
   "mimetype": "text/x-python",
   "name": "python",
   "nbconvert_exporter": "python",
   "pygments_lexer": "ipython3",
   "version": "3.7.1"
  }
 },
 "nbformat": 4,
 "nbformat_minor": 2
}
